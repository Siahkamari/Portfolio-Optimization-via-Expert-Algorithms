{
 "metadata": {
  "language_info": {
   "codemirror_mode": {
    "name": "ipython",
    "version": 3
   },
   "file_extension": ".py",
   "mimetype": "text/x-python",
   "name": "python",
   "nbconvert_exporter": "python",
   "pygments_lexer": "ipython3",
   "version": "3.8.5-final"
  },
  "orig_nbformat": 2,
  "kernelspec": {
   "name": "python3",
   "display_name": "Python 3",
   "language": "python"
  }
 },
 "nbformat": 4,
 "nbformat_minor": 2,
 "cells": [
  {
   "cell_type": "code",
   "execution_count": 1,
   "metadata": {},
   "outputs": [],
   "source": [
    "import numpy as np\n",
    "import pandas as pd\n",
    "import lxml\n",
    "import matplotlib.pyplot as plt\n",
    "from scipy import optimize as op\n",
    "from cvxopt import solvers\n",
    "from cvxopt import matrix"
   ]
  },
  {
   "source": [
    "## Lets get the stock market data over last year from yahoo"
   ],
   "cell_type": "markdown",
   "metadata": {}
  },
  {
   "cell_type": "code",
   "execution_count": 51,
   "metadata": {},
   "outputs": [],
   "source": [
    "import pandas as pd\n",
    "\n",
    "# There are 2 tables on the Wikipedia page\n",
    "# we want the first table\n",
    "\n",
    "payload=pd.read_html('https://en.wikipedia.org/wiki/List_of_S%26P_500_companies')\n",
    "first_table = payload[0]\n",
    "second_table = payload[1]\n",
    "\n",
    "df = first_table\n",
    "df.head()\n",
    "my_stocks = df['Symbol'].values.tolist()\n",
    "n = len(my_stocks)\n",
    "my_stocks.remove('BRK.B')\n",
    "my_stocks.remove('BF.B')\n",
    "my_stocks.remove('CARR')\n",
    "my_stocks.remove('LUMN')\n",
    "my_stocks.remove('OTIS')\n",
    "my_stocks.remove('VNT')\n",
    "# my_stocks = ['AAPL','BA','FB','GILD','REGI','SBUX','TWTR','DIS','GE','HD','DAL','GOOG','ABBV','JNJ','NEE','TSLA','SPY','GLD','F','AMGN','NKE']"
   ]
  },
  {
   "cell_type": "code",
   "execution_count": 46,
   "metadata": {},
   "outputs": [
    {
     "output_type": "stream",
     "name": "stdout",
     "text": [
      "Downloading data...\n"
     ]
    }
   ],
   "source": [
    "import urllib.request\n",
    "\n",
    "print('Downloading data...')\n",
    "\n",
    "for symbol in my_stocks:\n",
    "    url = 'https://query1.finance.yahoo.com/v7/finance/download/'+symbol+'?period1=1583884800&period2=1609113600&interval=1d&events=history&includeAdjustedClose=true'\n",
    "    urllib.request.urlretrieve(url,'../data/'+symbol+'.csv')"
   ]
  },
  {
   "source": [
    "## Now read the data using pandas"
   ],
   "cell_type": "markdown",
   "metadata": {}
  },
  {
   "cell_type": "code",
   "execution_count": 47,
   "metadata": {},
   "outputs": [
    {
     "output_type": "execute_result",
     "data": {
      "text/plain": [
       "           Date   Open       High        Low      Close  Adj Close    Volume\n",
       "197  2020-12-18  54.93  56.080002  54.270000  55.869999  55.869999  20450300\n",
       "198  2020-12-21  54.50  55.680000  53.580002  54.639999  54.639999  10349400\n",
       "199  2020-12-22  55.00  55.680000  54.369999  54.910000  54.910000   9259200\n",
       "200  2020-12-23  55.34  55.450001  54.230000  54.299999  54.299999   6008600\n",
       "201  2020-12-24  54.52  55.189999  53.860001  53.970001  53.970001   3661100"
      ],
      "text/html": "<div>\n<style scoped>\n    .dataframe tbody tr th:only-of-type {\n        vertical-align: middle;\n    }\n\n    .dataframe tbody tr th {\n        vertical-align: top;\n    }\n\n    .dataframe thead th {\n        text-align: right;\n    }\n</style>\n<table border=\"1\" class=\"dataframe\">\n  <thead>\n    <tr style=\"text-align: right;\">\n      <th></th>\n      <th>Date</th>\n      <th>Open</th>\n      <th>High</th>\n      <th>Low</th>\n      <th>Close</th>\n      <th>Adj Close</th>\n      <th>Volume</th>\n    </tr>\n  </thead>\n  <tbody>\n    <tr>\n      <th>197</th>\n      <td>2020-12-18</td>\n      <td>54.93</td>\n      <td>56.080002</td>\n      <td>54.270000</td>\n      <td>55.869999</td>\n      <td>55.869999</td>\n      <td>20450300</td>\n    </tr>\n    <tr>\n      <th>198</th>\n      <td>2020-12-21</td>\n      <td>54.50</td>\n      <td>55.680000</td>\n      <td>53.580002</td>\n      <td>54.639999</td>\n      <td>54.639999</td>\n      <td>10349400</td>\n    </tr>\n    <tr>\n      <th>199</th>\n      <td>2020-12-22</td>\n      <td>55.00</td>\n      <td>55.680000</td>\n      <td>54.369999</td>\n      <td>54.910000</td>\n      <td>54.910000</td>\n      <td>9259200</td>\n    </tr>\n    <tr>\n      <th>200</th>\n      <td>2020-12-23</td>\n      <td>55.34</td>\n      <td>55.450001</td>\n      <td>54.230000</td>\n      <td>54.299999</td>\n      <td>54.299999</td>\n      <td>6008600</td>\n    </tr>\n    <tr>\n      <th>201</th>\n      <td>2020-12-24</td>\n      <td>54.52</td>\n      <td>55.189999</td>\n      <td>53.860001</td>\n      <td>53.970001</td>\n      <td>53.970001</td>\n      <td>3661100</td>\n    </tr>\n  </tbody>\n</table>\n</div>"
     },
     "metadata": {},
     "execution_count": 47
    }
   ],
   "source": [
    "my_dict = {}\n",
    "for symbol in my_stocks:\n",
    "    my_dict[symbol] = pd.read_csv('../data/'+symbol+'.csv')\n",
    "\n",
    "n = len(my_dict)\n",
    "T = my_dict[symbol].shape[0]\n",
    "\n",
    "my_dict['TWTR'].tail()"
   ]
  },
  {
   "cell_type": "code",
   "execution_count": 50,
   "metadata": {},
   "outputs": [
    {
     "output_type": "stream",
     "name": "stdout",
     "text": [
      "VNT\n"
     ]
    }
   ],
   "source": [
    "stocks = np.zeros([n,T])\n",
    "for i, symbol in enumerate(my_stocks):\n",
    "    try:\n",
    "        stocks[i,:] = np.float32(my_dict[symbol].Close)\n",
    "    except:\n",
    "        print(\"some problem for data of\",symbol)\n",
    "\n",
    "times =  my_dict[symbol].Date"
   ]
  },
  {
   "source": [
    "## Online newton step algorithm and expert"
   ],
   "cell_type": "markdown",
   "metadata": {}
  },
  {
   "cell_type": "code",
   "execution_count": null,
   "metadata": {},
   "outputs": [],
   "source": [
    "x = np.ones(n)/n\n",
    "f = np.zeros(T)\n",
    "\n",
    "# Parameter Free Expert\n",
    "sum_g_tild = np.zeros(n)\n",
    "sum_g_w = np.zeros(n)\n",
    "x_0 = np.ones(n)/n\n",
    "for t in range(T-1):\n",
    "\n",
    "    w = sum_g_tild /(t+T/2)*(1+sum_g_w)\n",
    "    x = x_0 * np.maximum(w, 0)\n",
    "\n",
    "    if np.sum(x) > 0:\n",
    "        x = x / np.sum(x)\n",
    "    else:\n",
    "        x = x_0\n",
    "\n",
    "    r = stocks[:,t+1]/stocks[:,t]\n",
    "    f[t] = - np.log(np.dot(x,r))\n",
    "    grad = r/np.dot(x, r)\n",
    "\n",
    "    g_tild = grad - np.dot(grad, x)\n",
    "    g_tild[w<0] = np.maximum(g_tild[w<0], 0)\n",
    "\n",
    "    sum_g_tild += g_tild\n",
    "    sum_g_w += g_tild\n",
    "\n",
    "log_wealth_expert = np.cumsum(-f)\n",
    "\n",
    "x_pfe = x\n",
    "biggest = np.argsort(x)\n",
    "print('PFE portfolio')\n",
    "for i in biggest[::-1]:\n",
    "    symbol=my_stocks[i]\n",
    "    print(symbol + '\\t'+str(np.float16(x_pfe[i]*100))+ '%')"
   ]
  },
  {
   "cell_type": "code",
   "execution_count": null,
   "metadata": {},
   "outputs": [],
   "source": [
    "def project(y, A):\n",
    "    n = y.size\n",
    "\n",
    "    P = matrix(A, tc='d')\n",
    "    q = matrix(-2*np.matmul(y, A), tc='d')\n",
    "    G = matrix(-np.eye(n), tc='d')\n",
    "    h = matrix(np.zeros(n), tc='d')\n",
    "    A = matrix(np.ones([1,n]), tc='d')\n",
    "    b = matrix([1], tc='d')\n",
    "\n",
    "    solvers.options['show_progress'] = False\n",
    "    sol = solvers.qp(P,q,G,h,A,b)\n",
    "    return np.array(sol['x']).reshape(-1)"
   ]
  },
  {
   "cell_type": "code",
   "execution_count": null,
   "metadata": {},
   "outputs": [],
   "source": [
    "# ONS\n",
    "alpha = 0.9\n",
    "G = np.sqrt(n)/alpha\n",
    "gamma = 1/8/G\n",
    "epsilon = 1/gamma**2\n",
    "# gamma = 1\n",
    "# epsilon = 1/8\n",
    "\n",
    "# Initialization\n",
    "A = epsilon*np.eye(n)\n",
    "x = np.ones(n)/n\n",
    "f = np.zeros(T)\n",
    "\n",
    "# Algorithms\n",
    "for t in range(T-1):\n",
    "    r = stocks[:,t+1]/stocks[:,t]\n",
    "    f[t] = - np.log(np.dot(x,r))\n",
    "    grad = - r/np.dot(x, r)\n",
    "\n",
    "    # ONS\n",
    "    A = A + np.outer(grad, grad)\n",
    "    y = x - 1/gamma * np.linalg.solve(A, grad)\n",
    "    x = project(y, A)\n",
    "\n",
    "log_wealth_ons = np.cumsum(-f)\n",
    "\n",
    "x_ons = x\n",
    "\n",
    "print('ONS portfolio')\n",
    "biggest = np.argsort(x)\n",
    "for i in biggest[::-1]:\n",
    "    symbol=my_stocks[i]\n",
    "    print(symbol + '\\t'+str(np.float16(x_ons[i]*100))+ '%')"
   ]
  },
  {
   "source": [
    "## Backtest results"
   ],
   "cell_type": "markdown",
   "metadata": {}
  },
  {
   "cell_type": "code",
   "execution_count": null,
   "metadata": {},
   "outputs": [],
   "source": [
    "# Visualization\n",
    "fig, ax = plt.subplots()\n",
    "fig.set_size_inches(15, 10)\n",
    "\n",
    "for i, symbol in enumerate(my_stocks):\n",
    "    ax.plot(np.arange(T),np.log(stocks[i]) - np.log(stocks[i,0]), label=symbol)\n",
    "\n",
    "ax.plot(np.arange(T), log_wealth_ons, 'k' , linewidth=5, label='ONS')\n",
    "ax.plot(np.arange(T), log_wealth_expert, 'r' , linewidth=5, label='PFree Expert')\n",
    "\n",
    "ax.legend()\n",
    "ax.set_xlabel('trading day')\n",
    "ax.set_ylabel('log wealth')\n",
    "plt.show()"
   ]
  },
  {
   "cell_type": "code",
   "execution_count": null,
   "metadata": {},
   "outputs": [],
   "source": []
  }
 ]
}